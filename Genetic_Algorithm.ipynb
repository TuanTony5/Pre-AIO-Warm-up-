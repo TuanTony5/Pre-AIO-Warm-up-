{
 "cells": [
  {
   "cell_type": "code",
   "execution_count": 1,
   "metadata": {},
   "outputs": [],
   "source": [
    "import random\n",
    "def generate_values(n:int):\n",
    "    \"\"\"\n",
    "    Return random value that [-n,n]\n",
    "    \"\"\"\n",
    "    # x: [0,1]*2*n - n\n",
    "    x = random.random() * 2 * n - n\n",
    "    return x\n",
    "\n",
    "# Giả sử đây là hàm Black_box cần tính min, mình ko biết hàm fx này là gì\n",
    "def compute_fx(point):\n",
    "    \"\"\"\n",
    "    - point: [x,y,result]\n",
    "    We get only [x,y] to calculate result\n",
    "    \"\"\"\n",
    "    x, y = point[:-1]\n",
    "    return x**2 + y**2\n",
    "\n",
    "\n",
    "def genetic_algo(list_points:list, epochs=100):\n",
    "    \"\"\"\n",
    "    Parameters:\n",
    "        + list_points: List of k-best [x,y,result] that sort by optimized score: Best --> Worst (by result)\n",
    "        + epochs: The number of epochs to create the better points\n",
    "    Return: List of k-best [x,y,result]\n",
    "    \"\"\"\n",
    "\n",
    "    def only_last(point):\n",
    "        return point[-1]\n",
    "\n",
    "    if epochs == 0:\n",
    "        return list_points\n",
    "    else:  # Remake the better list of point\n",
    "        # Sort the list to find the min results\n",
    "        list_points.sort(key=only_last, reverse=False)\n",
    "\n",
    "        # Cut the half of the list\n",
    "        k_half = int(len(list_points) / 2)\n",
    "        list_points = list_points[:k_half]\n",
    "\n",
    "        # Create new k_half points from list_points to each next points\n",
    "        for i in range(k_half):\n",
    "\n",
    "            # new point = ([]+[])/2\n",
    "            index1 = int(random.random() * (k_half-1))+1\n",
    "            index2 = int(random.random() * (k_half-1))+1\n",
    "            new_point = [\n",
    "                (list_points[index1][j] + list_points[index2][j]) / 2\n",
    "                for j in range(len(list_points[0]))\n",
    "            ]\n",
    "            new_point[-1] = compute_fx(new_point)\n",
    "            # Append new point\n",
    "            list_points.append(new_point)\n",
    "\n",
    "        list_points.sort(key=only_last, reverse=False)\n",
    "        \n",
    "        # Mutation: Đột biến 1 point bất kì, [x,y,r] --> [2x,2y,new_r], percentage of mutation: 5%\n",
    "        alpha = 0.05\n",
    "        if random.random() < alpha:\n",
    "            # Mutation a random point (double values)\n",
    "            index = int(random.random() * k_half * 2)-1\n",
    "            new_x = list_points[index][0] * 2\n",
    "            new_y = list_points[index][1] * 2\n",
    "\n",
    "            # CHange the new_result of this point\n",
    "            list_points[index] = [new_x, new_y,None]\n",
    "            list_points[index][-1] = compute_fx(list_points[index])\n",
    "        \n",
    "        # Recursion to the next generation\n",
    "        \n",
    "        return genetic_algo(list_points,epochs-1)\n",
    "            "
   ]
  },
  {
   "cell_type": "code",
   "execution_count": 10,
   "metadata": {},
   "outputs": [
    {
     "data": {
      "text/plain": [
       "[[-12.275337371680692, -16.590116094707824, 425.91585962446425],\n",
       " [-9.749379028252307, -27.016992706334136, 824.9682863306377],\n",
       " [-26.171840217307533, -18.974115971569574, 1044.9822972628476],\n",
       " [-32.431911329084855, -3.841981464629015, 1066.5896940321754],\n",
       " [25.053098894665055, 22.943722510327504, 1154.0721668567762],\n",
       " [-23.27322812710139, 24.92387159409199, 1162.8425226948889],\n",
       " [32.07461926627539, -18.385414310448624, 1366.8046604433735],\n",
       " [-32.5120402729178, 21.44652021397752, 1516.9859919963756],\n",
       " [-42.572838709197256, -5.202918376443705, 1839.51695539126],\n",
       " [17.612183699184, -43.16889009965219, 2173.7420870896512]]"
      ]
     },
     "execution_count": 10,
     "metadata": {},
     "output_type": "execute_result"
    }
   ],
   "source": [
    "def only_last(point):\n",
    "    return point[-1]\n",
    "# Create list point\n",
    "k = 50\n",
    "# Generate random point [-n,n]\n",
    "n = 100\n",
    "list_points = []\n",
    "for i in range(k):\n",
    "    x = generate_values(n)\n",
    "    y = generate_values(n)\n",
    "    p = [x,y,compute_fx([x,y,None])]\n",
    "    list_points.append(p)\n",
    "\n",
    "# Show the list of random points before we train\n",
    "list_points.sort(key=only_last)\n",
    "list_points[:10]"
   ]
  },
  {
   "cell_type": "markdown",
   "metadata": {},
   "source": [
    "# Find the minimum by Genetic Algorithm"
   ]
  },
  {
   "cell_type": "code",
   "execution_count": 15,
   "metadata": {},
   "outputs": [
    {
     "name": "stdout",
     "output_type": "stream",
     "text": [
      "Actual min = 0\n",
      "Point (0.000,0.000) gain the min: 0.00000\n",
      "Hiệu giữa kết quả dự đoán với kết quả black_box = -4.999974213994354e-06\n"
     ]
    }
   ],
   "source": [
    "bias = 0.000005\n",
    "black_box_result = 0\n",
    "result = black_box_result + bias\n",
    "\n",
    "list_results = genetic_algo(list_points, epochs=100)\n",
    "list_results.sort(key=only_last)\n",
    "x, y, best_result = list_results[0]\n",
    "print(f\"Actual min = {black_box_result}\")\n",
    "print(f'Point ({x:.3f},{y:.3f}) gain the min: {best_result:.5f}')\n",
    "print(f\"Hiệu giữa kết quả dự đoán với kết quả black_box = {best_result-result}\")\n"
   ]
  },
  {
   "cell_type": "markdown",
   "metadata": {},
   "source": [
    "# Visual the difference cases"
   ]
  },
  {
   "cell_type": "code",
   "execution_count": 25,
   "metadata": {},
   "outputs": [
    {
     "data": {
      "text/plain": [
       "Text(0, 0.5, 'Frequency')"
      ]
     },
     "execution_count": 25,
     "metadata": {},
     "output_type": "execute_result"
    },
    {
     "data": {
      "image/png": "[encoded data removed]",
      "text/plain": [
       "<Figure size 640x480 with 1 Axes>"
      ]
     },
     "metadata": {},
     "output_type": "display_data"
    }
   ],
   "source": [
    "# Sẽ có vài trường hợp mô hình tìm mấy cái điểm sida, mình khảo sát tỉ lệ nhé\n",
    "import matplotlib.pyplot as plt\n",
    "import seaborn as sns\n",
    "\n",
    "# Số lần chạy giải thuật\n",
    "find = 100\n",
    "ketqua = []\n",
    "for i in range(find):\n",
    "    list_results = genetic_algo(list_points, epochs=100)\n",
    "    list_results.sort(key=only_last)\n",
    "    x, y, best_result = list_results[0]\n",
    "    ketqua.append(round(best_result, 3))\n",
    "\n",
    "sns.histplot(ketqua,bins=100)\n",
    "plt.xlabel(\"The min that the algorithm find\")\n",
    "plt.ylabel(\"Frequency\")\n",
    "\n",
    "# Như ae có thể thấy ở hình anh, thi thoảng min nó cũng đi xa lắc, nhma nhìn chung tỉ lệ quá nhỏ nhể :)))\n",
    "# Thuật toán này áp dụng cho mọi hàm black_box fx để tìm min nhé! \n",
    "# Độ hiệu quả của thuật toán phụ thuộc vào độ lớn của k(số lượng tập mẫu thử) và độ ăn may :)))"
   ]
  }
 ],
 "metadata": {
  "kernelspec": {
   "display_name": "aio2024_env",
   "language": "python",
   "name": "python3"
  },
  "language_info": {
   "codemirror_mode": {
    "name": "ipython",
    "version": 3
   },
   "file_extension": ".py",
   "mimetype": "text/x-python",
   "name": "python",
   "nbconvert_exporter": "python",
   "pygments_lexer": "ipython3",
   "version": "3.10.14"
  }
 },
 "nbformat": 4,
 "nbformat_minor": 2
}
