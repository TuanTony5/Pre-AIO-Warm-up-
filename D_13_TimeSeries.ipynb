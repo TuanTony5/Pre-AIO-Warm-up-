{
 "cells": [
  {
   "cell_type": "code",
   "execution_count": 19,
   "metadata": {},
   "outputs": [
    {
     "data": {
      "text/plain": [
       "2.95"
      ]
     },
     "execution_count": 19,
     "metadata": {},
     "output_type": "execute_result"
    }
   ],
   "source": [
    "def interpolate(p1,p2 , x):\n",
    "    x1, y1 = p1\n",
    "    x2, y2 = p2\n",
    "    alpha = (x2 - x) / (x2 - x1)\n",
    "    y = alpha * y1 + (1 - alpha) * y2\n",
    "    return y\n",
    "\n",
    "\n",
    "interpolate((1, 1), (3, 3), 2.95)"
   ]
  },
  {
   "cell_type": "code",
   "execution_count": 22,
   "metadata": {},
   "outputs": [],
   "source": [
    "def find_none(data):\n",
    "    for ind, val in enumerate(data):\n",
    "        if None == val:\n",
    "            return ind\n",
    "    return -1\n",
    "\n",
    "\n",
    "def find_end(ind, data):\n",
    "    end = len(data)\n",
    "    for i in range(ind + 1, len(data), 1):\n",
    "        if data[i] != None:\n",
    "            end = i\n",
    "            break\n",
    "    return end"
   ]
  },
  {
   "cell_type": "code",
   "execution_count": 27,
   "metadata": {},
   "outputs": [],
   "source": [
    "def fill_Nan(data):\n",
    "    while True:\n",
    "        ind = find_none(data)\n",
    "        if ind < 0:\n",
    "            return data\n",
    "        begin = ind - 1\n",
    "        end = find_end(ind,data)\n",
    "\n",
    "        if begin <0:\n",
    "            y = data[end]\n",
    "        elif end >= len(data):\n",
    "            y = data[begin]\n",
    "        else:\n",
    "            p1 = (begin,data[begin])\n",
    "            p2 = (end, data[end])\n",
    "            y = interpolate(p1,p2,ind)\n",
    "        data[ind] = y\n",
    "    return data"
   ]
  },
  {
   "cell_type": "code",
   "execution_count": 28,
   "metadata": {},
   "outputs": [
    {
     "data": {
      "text/plain": [
       "[2.0, 2.2, 2.45, 2.7, 3.8000000000000003, 4.9, 6.2, 6.2]"
      ]
     },
     "execution_count": 28,
     "metadata": {},
     "output_type": "execute_result"
    }
   ],
   "source": [
    "lst_data = [2.0, 2.2, None, 2.7, None, 4.9, 6.2, None]\n",
    "lst_data = fill_Nan(lst_data)\n",
    "lst_data"
   ]
  }
 ],
 "metadata": {
  "kernelspec": {
   "display_name": "aio2024_env",
   "language": "python",
   "name": "python3"
  },
  "language_info": {
   "codemirror_mode": {
    "name": "ipython",
    "version": 3
   },
   "file_extension": ".py",
   "mimetype": "text/x-python",
   "name": "python",
   "nbconvert_exporter": "python",
   "pygments_lexer": "ipython3",
   "version": "3.10.14"
  }
 },
 "nbformat": 4,
 "nbformat_minor": 2
}
