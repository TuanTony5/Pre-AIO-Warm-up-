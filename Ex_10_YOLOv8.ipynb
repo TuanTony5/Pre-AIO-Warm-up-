{
<<<<<<< HEAD
=======
  "nbformat": 4,
  "nbformat_minor": 0,
  "metadata": {
    "colab": {
      "provenance": [],
      "gpuType": "T4",
      "authorship_tag": "ABX9TyN8z/QyBBE+bb02aKkjnMkm",
      "include_colab_link": true
    },
    "kernelspec": {
      "name": "python3",
      "display_name": "Python 3"
    },
    "language_info": {
      "name": "python"
    },
    "accelerator": "GPU"
  },
>>>>>>> 43b3595fb996763b4073c670f5c075e6d4260c0d
  "cells": [
    {
      "cell_type": "markdown",
      "metadata": {
        "colab_type": "text",
        "id": "view-in-github"
      },
      "source": [
        "<a href=\"https://colab.research.google.com/github/TuanTony5/Pre-AIO-Warm-up-/blob/main/Ex_10_YOLOv8.ipynb\" target=\"_parent\"><img src=\"https://colab.research.google.com/assets/colab-badge.svg\" alt=\"Open In Colab\"/></a>"
      ]
    },
    {
      "cell_type": "markdown",
<<<<<<< HEAD
=======
      "source": [
        "https://drive.google.com/file/d/1Rd1RcGUjcFLxS0lKosNPowdpqPQ08JPi/view?usp=sharing"
      ],
      "metadata": {
        "id": "W0g5cm7VcSbu"
      }
    },
    {
      "cell_type": "markdown",
      "source": [
        "# Download data for car detection\n"
      ],
>>>>>>> 43b3595fb996763b4073c670f5c075e6d4260c0d
      "metadata": {
        "id": "3NInjq372mGt"
      },
      "source": [
        "# Download data for car detection\n"
      ]
    },
    {
      "cell_type": "code",
      "execution_count": null,
      "metadata": {
        "id": "AEG0bA6k2M8j"
      },
      "outputs": [],
      "source": [
        "!gdown 1sX9qmlPY1SXwboz9qOzjyLrkzCwYoT31\n",
        "!unzip cars_yolo_data.zip"
      ]
    },
    {
      "cell_type": "code",
      "execution_count": null,
      "metadata": {
        "id": "HKNpJZor3Med"
      },
      "outputs": [],
      "source": [
        "# Download library for yolov8\n",
        "%pip install ultralytics\n",
        "import ultralytics\n",
        "ultralytics.checks()"
<<<<<<< HEAD
=======
      ],
      "metadata": {
        "id": "HKNpJZor3Med",
        "outputId": "bec2961b-866a-41dd-8d8a-9a7fdf082c14",
        "colab": {
          "base_uri": "https://localhost:8080/"
        }
      },
      "execution_count": null,
      "outputs": [
        {
          "output_type": "stream",
          "name": "stdout",
          "text": [
            "Ultralytics YOLOv8.2.2 🚀 Python-3.10.12 torch-2.2.1+cu121 CUDA:0 (Tesla T4, 15102MiB)\n",
            "Setup complete ✅ (2 CPUs, 12.7 GB RAM, 29.1/78.2 GB disk)\n"
          ]
        }
>>>>>>> 43b3595fb996763b4073c670f5c075e6d4260c0d
      ]
    },
    {
      "cell_type": "code",
      "execution_count": null,
      "metadata": {
        "id": "zREXihIJ3sjS"
      },
      "outputs": [],
      "source": [
        "import os\n",
        "import cv2\n",
        "import json\n",
        "import matplotlib.pyplot as plt\n",
        "from ultralytics import YOLO"
      ]
    },
    {
      "cell_type": "markdown",
      "metadata": {
        "id": "3g-6yjPJ4OfD"
      },
      "source": [
        "# Training"
      ]
    },
    {
      "cell_type": "code",
      "execution_count": null,
      "metadata": {
        "id": "Qhy1wmf436WD"
      },
      "outputs": [],
      "source": [
        "# Load pre-trained model (yolov8s.pt)\n",
        "yolo_yaml_path = 'yolo_data/data.yml'\n",
        "model = YOLO('yolov8s.yaml').load('yolov8s.pt')"
      ],
      "metadata": {
        "id": "lchx4RNXRyJf",
        "outputId": "ac061c9f-d52f-414e-c9ae-91258210f883",
        "colab": {
          "base_uri": "https://localhost:8080/"
        }
      },
      "execution_count": null,
      "outputs": [
        {
          "output_type": "stream",
          "name": "stdout",
          "text": [
            "Downloading https://github.com/ultralytics/assets/releases/download/v8.2.0/yolov8s.pt to 'yolov8s.pt'...\n"
          ]
        },
        {
          "output_type": "stream",
          "name": "stderr",
          "text": [
            "100%|██████████| 21.5M/21.5M [00:00<00:00, 206MB/s]"
          ]
        },
        {
          "output_type": "stream",
          "name": "stdout",
          "text": [
            "Transferred 355/355 items from pretrained weights\n"
          ]
        },
        {
          "output_type": "stream",
          "name": "stderr",
          "text": [
            "\n"
          ]
        }
      ]
    },
    {
      "cell_type": "code",
      "source": [
        "# Set up some important parameters\n",
        "epochs = 15\n",
        "imgsz = 640\n",
        "batch_size = 32\n",
        "patience = 0\n",
        "lr = 0.0005\n",
        "\n",
        "model.train(\n",
        "    data = yolo_yaml_path,\n",
        "    epochs = epochs,\n",
        "    imgsz = imgsz,\n",
        "    batch = batch_size,\n",
        "    lr0 = lr,\n",
        "    patience= patience,\n",
        "    project = 'models',\n",
        "    name = 'yolov8/detect/train'\n",
        ")"
      ]
    },
    {
      "cell_type": "markdown",
      "metadata": {
        "id": "pAWuOoBdITO2"
      },
      "source": [
        "# Evaluation"
      ]
    },
    {
      "cell_type": "code",
      "execution_count": null,
      "metadata": {
        "id": "-Xg5pcCC5h-s"
      },
      "outputs": [],
      "source": [
        "from ultralytics import YOLO\n",
        "\n",
        "model_path = 'models/yolov8/detect/train/weights/best.pt'\n",
        "model = YOLO(model_path)\n",
        "\n",
        "metrics = model.val(\n",
        "    project = 'models',\n",
        "    name = 'yolov8/detect/val'\n",
        ")"
      ]
    },
    {
      "cell_type": "markdown",
      "metadata": {
        "id": "uC3JtYV5IXzG"
      },
      "source": [
        "# Predict"
      ]
    },
    {
      "cell_type": "code",
<<<<<<< HEAD
      "execution_count": null,
      "metadata": {
        "id": "gRLIFgoXIbVe"
      },
      "outputs": [],
      "source": []
=======
      "source": [
        "# Predict\n",
        "model_path = 'models/yolov8/detect/train/weights/best.pt'\n",
        "test_img_path = 'yolo_data/val/images/vid_4_12140.jpg'\n",
        "\n",
        "model = YOLO(model_path)\n",
        "model.predict(test_img_path,save = True)"
      ],
      "metadata": {
        "id": "gRLIFgoXIbVe"
      },
      "execution_count": null,
      "outputs": []
    },
    {
      "cell_type": "markdown",
      "source": [
        "# Use the model"
      ],
      "metadata": {
        "id": "H01nTZ-2XinW"
      }
    },
    {
      "cell_type": "code",
      "source": [
        "model_path = 'models/yolov8/detect/train/weights/best.pt'\n",
        "test_img_dir = 'yolo_data/val/images'\n",
        "conf_thres = 0.75\n",
        "\n",
        "model = YOLO(model_path)\n",
        "for img_name in os.listdir(test_img_dir):\n",
        "  # Nối tên của file vào test_img_dir ==> tạo thành đường dẫn ảnh\n",
        "  img_path = os.path.join(test_img_dir,img_name)\n",
        "  model.predict(img_path,save = True)"
      ],
      "metadata": {
        "id": "EKbs8w3JXb9P"
      },
      "execution_count": null,
      "outputs": []
    },
    {
      "cell_type": "markdown",
      "source": [
        "# Predict Video on Youtube"
      ],
      "metadata": {
        "id": "FF9vhUkYvHPZ"
      }
    },
    {
      "cell_type": "code",
      "source": [
        "video_path = 'https://youtu.be/PJ5xXXcfuTc?list=PLcQZGj9lFR7y5WikozDSrdk6UCtAnM9mB'\n",
        "model.predict(video_path,save = True)"
      ],
      "metadata": {
        "id": "Jb9s6oiGvGz6"
      },
      "execution_count": null,
      "outputs": []
    },
    {
      "cell_type": "code",
      "source": [
        "# def visualize_box(\n",
        "#     img_path, predictions,\n",
        "#     conf_thres = 0.8,\n",
        "#     font = cv2.FONT_HERSHEY_SIMPLEX\n",
        "# ):\n",
        "#   pass"
      ],
      "metadata": {
        "id": "1tflQlsgxk0K"
      },
      "execution_count": null,
      "outputs": []
>>>>>>> 43b3595fb996763b4073c670f5c075e6d4260c0d
    }
  ],
  "metadata": {
    "accelerator": "GPU",
    "colab": {
      "authorship_tag": "ABX9TyP5xR9f7vHNL0kiycM2ziOA",
      "gpuType": "T4",
      "include_colab_link": true,
      "provenance": []
    },
    "kernelspec": {
      "display_name": "Python 3",
      "name": "python3"
    },
    "language_info": {
      "name": "python"
    }
  },
  "nbformat": 4,
  "nbformat_minor": 0
}
