{
  "cells": [
    {
      "cell_type": "markdown",
      "metadata": {
        "colab_type": "text",
        "id": "view-in-github"
      },
      "source": [
        "<a href=\"https://colab.research.google.com/github/TuanTony5/Pre-AIO-Warm-up-/blob/main/Ex_10_YOLOv8.ipynb\" target=\"_parent\"><img src=\"https://colab.research.google.com/assets/colab-badge.svg\" alt=\"Open In Colab\"/></a>"
      ]
    },
    {
      "cell_type": "markdown",
      "metadata": {
        "id": "3NInjq372mGt"
      },
      "source": [
        "# Download data for car detection\n"
      ]
    },
    {
      "cell_type": "code",
      "execution_count": null,
      "metadata": {
        "id": "AEG0bA6k2M8j"
      },
      "outputs": [],
      "source": [
        "!gdown 1sX9qmlPY1SXwboz9qOzjyLrkzCwYoT31\n",
        "!unzip cars_yolo_data.zip"
      ]
    },
    {
      "cell_type": "code",
      "execution_count": null,
      "metadata": {
        "id": "HKNpJZor3Med"
      },
      "outputs": [],
      "source": [
        "# Download library for yolov8\n",
        "%pip install ultralytics\n",
        "import ultralytics\n",
        "ultralytics.checks()"
      ]
    },
    {
      "cell_type": "code",
      "execution_count": null,
      "metadata": {
        "id": "zREXihIJ3sjS"
      },
      "outputs": [],
      "source": [
        "import os\n",
        "import cv2\n",
        "import json\n",
        "import matplotlib.pyplot as plt\n",
        "from ultralytics import YOLO"
      ]
    },
    {
      "cell_type": "markdown",
      "metadata": {
        "id": "3g-6yjPJ4OfD"
      },
      "source": [
        "# Training"
      ]
    },
    {
      "cell_type": "code",
      "execution_count": null,
      "metadata": {
        "id": "Qhy1wmf436WD"
      },
      "outputs": [],
      "source": [
        "# Load a model\n",
        "yolo_yaml_path = 'yolo_data/data.yml'\n",
        "model = YOLO('yolov8s.yaml').load('yolov8s.pt')\n",
        "\n",
        "# Training the model\n",
        "epochs = 15\n",
        "imgsz = 640\n",
        "batch_size = 8\n",
        "patience = 5\n",
        "lr = 0.0005\n",
        "\n",
        "result = model.train(\n",
        "    data = yolo_yaml_path,\n",
        "    epochs = epochs,\n",
        "    imgsz = imgsz,\n",
        "    batch = batch_size,\n",
        "    lr0 = lr,\n",
        "    patience= patience,\n",
        "    project = 'models',\n",
        "    name = 'yolov8/detect/train'\n",
        ")"
      ]
    },
    {
      "cell_type": "markdown",
      "metadata": {
        "id": "pAWuOoBdITO2"
      },
      "source": [
        "# Evaluation"
      ]
    },
    {
      "cell_type": "code",
      "execution_count": null,
      "metadata": {
        "id": "-Xg5pcCC5h-s"
      },
      "outputs": [],
      "source": [
        "from ultralytics import YOLO\n",
        "\n",
        "model_path = 'model/yolov8/detect/train/weights/best.pt'\n",
        "model = YOLO(model_path)\n",
        "\n",
        "metrics = model.val(\n",
        "    project = 'model',\n",
        "    name = 'yolov8/detect/train'\n",
        ")"
      ]
    },
    {
      "cell_type": "markdown",
      "metadata": {
        "id": "uC3JtYV5IXzG"
      },
      "source": [
        "# Predict"
      ]
    },
    {
      "cell_type": "code",
      "execution_count": null,
      "metadata": {
        "id": "gRLIFgoXIbVe"
      },
      "outputs": [],
      "source": []
    }
  ],
  "metadata": {
    "accelerator": "GPU",
    "colab": {
      "authorship_tag": "ABX9TyP5xR9f7vHNL0kiycM2ziOA",
      "gpuType": "T4",
      "include_colab_link": true,
      "provenance": []
    },
    "kernelspec": {
      "display_name": "Python 3",
      "name": "python3"
    },
    "language_info": {
      "name": "python"
    }
  },
  "nbformat": 4,
  "nbformat_minor": 0
}
