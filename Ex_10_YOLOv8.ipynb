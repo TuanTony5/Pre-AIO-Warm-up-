{
  "nbformat": 4,
  "nbformat_minor": 0,
  "metadata": {
    "colab": {
      "provenance": [],
      "gpuType": "T4",
      "authorship_tag": "ABX9TyO9V8vI87CVhlxEx0QWSuv/",
      "include_colab_link": true
    },
    "kernelspec": {
      "name": "python3",
      "display_name": "Python 3"
    },
    "language_info": {
      "name": "python"
    },
    "accelerator": "GPU"
  },
  "cells": [
    {
      "cell_type": "markdown",
      "metadata": {
        "id": "view-in-github",
        "colab_type": "text"
      },
      "source": [
        "<a href=\"https://colab.research.google.com/github/TuanTony5/Pre-AIO-Warm-up-/blob/main/Ex_10_YOLOv8.ipynb\" target=\"_parent\"><img src=\"https://colab.research.google.com/assets/colab-badge.svg\" alt=\"Open In Colab\"/></a>"
      ]
    },
    {
      "cell_type": "markdown",
      "source": [
        "https://drive.google.com/file/d/1Rd1RcGUjcFLxS0lKosNPowdpqPQ08JPi/view?usp=sharing"
      ],
      "metadata": {
        "id": "W0g5cm7VcSbu"
      }
    },
    {
      "cell_type": "markdown",
      "source": [
        "# Download data for car detection\n"
      ],
      "metadata": {
        "id": "3NInjq372mGt"
      }
    },
    {
      "cell_type": "code",
      "execution_count": null,
      "metadata": {
        "id": "AEG0bA6k2M8j"
      },
      "outputs": [],
      "source": [
        "!gdown 1sX9qmlPY1SXwboz9qOzjyLrkzCwYoT31\n",
        "!unzip cars_yolo_data.zip"
      ]
    },
    {
      "cell_type": "code",
      "source": [
        "# Download library for yolov8\n",
        "%pip install ultralytics\n",
        "import ultralytics\n",
        "ultralytics.checks()"
      ],
      "metadata": {
        "id": "HKNpJZor3Med",
        "outputId": "b0bfe589-ad88-44b7-b385-9a4b3a5a8fa7",
        "colab": {
          "base_uri": "https://localhost:8080/"
        }
      },
      "execution_count": 2,
      "outputs": [
        {
          "output_type": "stream",
          "name": "stdout",
          "text": [
            "Ultralytics YOLOv8.2.2 🚀 Python-3.10.12 torch-2.2.1+cu121 CUDA:0 (Tesla T4, 15102MiB)\n",
            "Setup complete ✅ (2 CPUs, 12.7 GB RAM, 29.1/78.2 GB disk)\n"
          ]
        }
      ]
    },
    {
      "cell_type": "code",
      "source": [
        "import os\n",
        "import cv2\n",
        "import json\n",
        "import matplotlib.pyplot as plt\n",
        "from ultralytics import YOLO"
      ],
      "metadata": {
        "id": "zREXihIJ3sjS"
      },
      "execution_count": 3,
      "outputs": []
    },
    {
      "cell_type": "markdown",
      "source": [
        "# Training"
      ],
      "metadata": {
        "id": "3g-6yjPJ4OfD"
      }
    },
    {
      "cell_type": "code",
      "source": [
        "# Load pre-trained model (yolov8s.pt)\n",
        "yolo_yaml_path = 'yolo_data/data.yml'\n",
        "model = YOLO('yolov8s.yaml').load('yolov8s.pt')"
      ],
      "metadata": {
        "id": "lchx4RNXRyJf",
        "outputId": "e35b400b-63aa-4c8d-c100-afbb46544048",
        "colab": {
          "base_uri": "https://localhost:8080/"
        }
      },
      "execution_count": 4,
      "outputs": [
        {
          "output_type": "stream",
          "name": "stdout",
          "text": [
            "Downloading https://github.com/ultralytics/assets/releases/download/v8.2.0/yolov8s.pt to 'yolov8s.pt'...\n"
          ]
        },
        {
          "output_type": "stream",
          "name": "stderr",
          "text": [
            "100%|██████████| 21.5M/21.5M [00:00<00:00, 233MB/s]"
          ]
        },
        {
          "output_type": "stream",
          "name": "stdout",
          "text": [
            "Transferred 355/355 items from pretrained weights\n"
          ]
        },
        {
          "output_type": "stream",
          "name": "stderr",
          "text": [
            "\n"
          ]
        }
      ]
    },
    {
      "cell_type": "code",
      "source": [
        "# Set up some important parameters\n",
        "epochs = 15\n",
        "imgsz = 640\n",
        "batch_size = 32\n",
        "patience = 0\n",
        "lr = 0.0005\n",
        "\n",
        "model.train(\n",
        "    data = yolo_yaml_path,\n",
        "    epochs = epochs,\n",
        "    imgsz = imgsz,\n",
        "    batch = batch_size,\n",
        "    lr0 = lr,\n",
        "    patience= patience,\n",
        "    project = 'models',\n",
        "    name = 'yolov8/detect/train'\n",
        ")"
      ],
      "metadata": {
        "id": "Qhy1wmf436WD"
      },
      "execution_count": null,
      "outputs": []
    },
    {
      "cell_type": "markdown",
      "source": [
        "# Evaluation"
      ],
      "metadata": {
        "id": "pAWuOoBdITO2"
      }
    },
    {
      "cell_type": "code",
      "source": [
        "from ultralytics import YOLO\n",
        "\n",
        "model_path = 'models/yolov8/detect/train3/weights/best.pt'\n",
        "model = YOLO(model_path)\n",
        "\n",
        "metrics = model.val(\n",
        "    project = 'models',\n",
        "    name = 'yolov8/detect/val'\n",
        ")"
      ],
      "metadata": {
        "id": "-Xg5pcCC5h-s",
        "outputId": "d2f6874b-9d78-4d9c-81e0-354829970469",
        "colab": {
          "base_uri": "https://localhost:8080/"
        }
      },
      "execution_count": 9,
      "outputs": [
        {
          "output_type": "stream",
          "name": "stdout",
          "text": [
            "Ultralytics YOLOv8.2.2 🚀 Python-3.10.12 torch-2.2.1+cu121 CUDA:0 (Tesla T4, 15102MiB)\n",
            "YOLOv8s summary (fused): 168 layers, 11125971 parameters, 0 gradients, 28.4 GFLOPs\n"
          ]
        },
        {
          "output_type": "stream",
          "name": "stderr",
          "text": [
            "\u001b[34m\u001b[1mval: \u001b[0mScanning /content/yolo_data/val/labels.cache... 26 images, 0 backgrounds, 0 corrupt: 100%|██████████| 26/26 [00:00<?, ?it/s]\n",
            "/usr/lib/python3.10/multiprocessing/popen_fork.py:66: RuntimeWarning: os.fork() was called. os.fork() is incompatible with multithreaded code, and JAX is multithreaded, so this will likely lead to a deadlock.\n",
            "  self.pid = os.fork()\n",
            "                 Class     Images  Instances      Box(P          R      mAP50  mAP50-95): 100%|██████████| 2/2 [00:01<00:00,  1.25it/s]\n"
          ]
        },
        {
          "output_type": "stream",
          "name": "stdout",
          "text": [
            "                   all         26         28      0.429      0.857      0.515      0.346\n",
            "Speed: 0.2ms preprocess, 40.7ms inference, 0.0ms loss, 10.0ms postprocess per image\n",
            "Results saved to \u001b[1mmodels/yolov8/detect/val\u001b[0m\n"
          ]
        }
      ]
    },
    {
      "cell_type": "markdown",
      "source": [
        "# Predict"
      ],
      "metadata": {
        "id": "uC3JtYV5IXzG"
      }
    },
    {
      "cell_type": "code",
      "source": [
        "# Predict\n",
        "model_path = 'models/yolov8/detect/train3/weights/best.pt'\n",
        "test_img_path = 'yolo_data/val/images/vid_4_12140.jpg'\n",
        "\n",
        "model = YOLO(model_path)\n",
        "model.predict(test_img_path,save = True)"
      ],
      "metadata": {
        "id": "gRLIFgoXIbVe"
      },
      "execution_count": null,
      "outputs": []
    },
    {
      "cell_type": "markdown",
      "source": [
        "# Use the model"
      ],
      "metadata": {
        "id": "H01nTZ-2XinW"
      }
    },
    {
      "cell_type": "code",
      "source": [
        "model_path = 'models/yolov8/detect/train3/weights/best.pt'\n",
        "test_img_dir = 'yolo_data/val/images'\n",
        "conf_thres = 0.75\n",
        "\n",
        "model = YOLO(model_path)\n",
        "for img_name in os.listdir(test_img_dir):\n",
        "  # Nối tên của file vào test_img_dir ==> tạo thành đường dẫn ảnh\n",
        "  img_path = os.path.join(test_img_dir,img_name)\n",
        "  model.predict(img_path,save = True)"
      ],
      "metadata": {
        "id": "EKbs8w3JXb9P"
      },
      "execution_count": null,
      "outputs": []
    }
  ]
}