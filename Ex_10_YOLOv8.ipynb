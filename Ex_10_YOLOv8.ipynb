{
  "nbformat": 4,
  "nbformat_minor": 0,
  "metadata": {
    "colab": {
      "provenance": [],
      "gpuType": "T4",
      "authorship_tag": "ABX9TyP5xR9f7vHNL0kiycM2ziOA",
      "include_colab_link": true
    },
    "kernelspec": {
      "name": "python3",
      "display_name": "Python 3"
    },
    "language_info": {
      "name": "python"
    },
    "accelerator": "GPU"
  },
  "cells": [
    {
      "cell_type": "markdown",
      "metadata": {
        "id": "view-in-github",
        "colab_type": "text"
      },
      "source": [
        "<a href=\"https://colab.research.google.com/github/TuanTony5/Pre-AIO-Warm-up-/blob/main/Ex_10_YOLOv8.ipynb\" target=\"_parent\"><img src=\"https://colab.research.google.com/assets/colab-badge.svg\" alt=\"Open In Colab\"/></a>"
      ]
    },
    {
      "cell_type": "markdown",
      "source": [
        "# Download data for car detection\n"
      ],
      "metadata": {
        "id": "3NInjq372mGt"
      }
    },
    {
      "cell_type": "code",
      "execution_count": null,
      "metadata": {
        "id": "AEG0bA6k2M8j"
      },
      "outputs": [],
      "source": [
        "!gdown 1sX9qmlPY1SXwboz9qOzjyLrkzCwYoT31\n",
        "!unzip cars_yolo_data.zip"
      ]
    },
    {
      "cell_type": "code",
      "source": [
        "# Download library for yolov8\n",
        "%pip install ultralytics\n",
        "import ultralytics\n",
        "ultralytics.checks()"
      ],
      "metadata": {
        "id": "HKNpJZor3Med"
      },
      "execution_count": null,
      "outputs": []
    },
    {
      "cell_type": "code",
      "source": [
        "import os\n",
        "import cv2\n",
        "import json\n",
        "import matplotlib.pyplot as plt\n",
        "from ultralytics import YOLO"
      ],
      "metadata": {
        "id": "zREXihIJ3sjS"
      },
      "execution_count": null,
      "outputs": []
    },
    {
      "cell_type": "markdown",
      "source": [
        "# Training"
      ],
      "metadata": {
        "id": "3g-6yjPJ4OfD"
      }
    },
    {
      "cell_type": "code",
      "source": [
        "# Load a model\n",
        "yolo_yaml_path = 'yolo_data/data.yml'\n",
        "model = YOLO('yolov8s.yaml').load('yolov8s.pt')\n",
        "\n",
        "# Training the model\n",
        "epochs = 15\n",
        "imgsz = 640\n",
        "batch_size = 8\n",
        "patience = 5\n",
        "lr = 0.0005\n",
        "\n",
        "result = model.train(\n",
        "    data = yolo_yaml_path,\n",
        "    epochs = epochs,\n",
        "    imgsz = imgsz,\n",
        "    batch = batch_size,\n",
        "    lr0 = lr,\n",
        "    patience= patience,\n",
        "    project = 'models',\n",
        "    name = 'yolov8/detect/train'\n",
        ")"
      ],
      "metadata": {
        "id": "Qhy1wmf436WD"
      },
      "execution_count": null,
      "outputs": []
    },
    {
      "cell_type": "markdown",
      "source": [
        "# Evaluation"
      ],
      "metadata": {
        "id": "pAWuOoBdITO2"
      }
    },
    {
      "cell_type": "code",
      "source": [
        "from ultralytics import YOLO\n",
        "\n",
        "model_path = 'model/yolov8/detect/train/weights/best.pt'\n",
        "model = YOLO(model_path)\n",
        "\n",
        "metrics = model.val(\n",
        "    project = 'model',\n",
        "    name = 'yolov8/detect/train'\n",
        ")"
      ],
      "metadata": {
        "id": "-Xg5pcCC5h-s"
      },
      "execution_count": null,
      "outputs": []
    },
    {
      "cell_type": "markdown",
      "source": [
        "# Predict"
      ],
      "metadata": {
        "id": "uC3JtYV5IXzG"
      }
    },
    {
      "cell_type": "code",
      "source": [],
      "metadata": {
        "id": "gRLIFgoXIbVe"
      },
      "execution_count": null,
      "outputs": []
    }
  ]
}