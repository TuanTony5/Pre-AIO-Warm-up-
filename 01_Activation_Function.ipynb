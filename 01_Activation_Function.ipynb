{
  "nbformat": 4,
  "nbformat_minor": 0,
  "metadata": {
    "colab": {
      "provenance": [],
      "gpuType": "T4",
      "authorship_tag": "ABX9TyPo8SDrrQp7rYgo2qzlvVk0",
      "include_colab_link": true
    },
    "kernelspec": {
      "name": "python3",
      "display_name": "Python 3"
    },
    "language_info": {
      "name": "python"
    },
    "accelerator": "GPU"
  },
  "cells": [
    {
      "cell_type": "markdown",
      "metadata": {
        "id": "view-in-github",
        "colab_type": "text"
      },
      "source": [
        "<a href=\"https://colab.research.google.com/github/TuanTony5/Pre-AIO-Warm-up-/blob/main/01_Activation_Function.ipynb\" target=\"_parent\"><img src=\"https://colab.research.google.com/assets/colab-badge.svg\" alt=\"Open In Colab\"/></a>"
      ]
    },
    {
      "cell_type": "markdown",
      "source": [
        "# 1. Sigmoid Function\n"
      ],
      "metadata": {
        "id": "kQ1yirt2PMFK"
      }
    },
    {
      "cell_type": "code",
      "source": [
        "import numpy as np\n",
        "\n",
        "def sigmoid(x):\n",
        "  \"\"\"\n",
        "  Convert x: [-inf,inf] --> y: [0,1]\n",
        "  \"\"\"\n",
        "  return 1 / (1+ np.exp(-x))\n",
        "\n",
        "x = np.array([1,5,-4,3,-2])\n",
        "sigmoid(x)"
      ],
      "metadata": {
        "colab": {
          "base_uri": "https://localhost:8080/"
        },
        "id": "3RaMJkwsPRSy",
        "outputId": "d75d6209-08c5-4697-8291-94f2eacb72c8"
      },
      "execution_count": 2,
      "outputs": [
        {
          "output_type": "execute_result",
          "data": {
            "text/plain": [
              "array([0.73105858, 0.99330715, 0.01798621, 0.95257413, 0.11920292])"
            ]
          },
          "metadata": {},
          "execution_count": 2
        }
      ]
    },
    {
      "cell_type": "markdown",
      "source": [
        "# 2. Tanh function"
      ],
      "metadata": {
        "id": "XDL_9QutP-nR"
      }
    },
    {
      "cell_type": "code",
      "source": [
        "def tanh(x):\n",
        "  \"\"\"\n",
        "  Convert x: [-inf,inf] --> y: [-1,1]\n",
        "  \"\"\"\n",
        "  return (2 / (1+ np.exp(-2*x)) ) - 1\n",
        "\n",
        "x = np.array([1,5,-4,3,-2])\n",
        "tanh(x)"
      ],
      "metadata": {
        "colab": {
          "base_uri": "https://localhost:8080/"
        },
        "id": "ymMhjUbYQBTB",
        "outputId": "2a76a6b5-5cdd-4722-cf2b-48e037ee7a94"
      },
      "execution_count": 3,
      "outputs": [
        {
          "output_type": "execute_result",
          "data": {
            "text/plain": [
              "array([ 0.76159416,  0.9999092 , -0.9993293 ,  0.99505475, -0.96402758])"
            ]
          },
          "metadata": {},
          "execution_count": 3
        }
      ]
    },
    {
      "cell_type": "markdown",
      "source": [
        "# 3. Softplus Function\n"
      ],
      "metadata": {
        "id": "1EYOmR0phlKf"
      }
    },
    {
      "cell_type": "code",
      "source": [
        "def softplus(x):\n",
        "  \"\"\"\n",
        "  Convert x: [-inf,inf] --> y: (0,inf)\n",
        "  \"\"\"\n",
        "  return np.log(1+np.exp(x))\n",
        "softplus(x)"
      ],
      "metadata": {
        "id": "WM5Hk02jhrbG",
        "outputId": "cc4849f6-ac10-4278-83ae-e36eb112f05d",
        "colab": {
          "base_uri": "https://localhost:8080/"
        }
      },
      "execution_count": 4,
      "outputs": [
        {
          "output_type": "execute_result",
          "data": {
            "text/plain": [
              "array([1.31326169, 5.00671535, 0.01814993, 3.04858735, 0.12692801])"
            ]
          },
          "metadata": {},
          "execution_count": 4
        }
      ]
    },
    {
      "cell_type": "code",
      "source": [
        "x = np.array([ 1,  5, -4,  3, -2])"
      ],
      "metadata": {
        "id": "CocWwdBMlP-W"
      },
      "execution_count": 5,
      "outputs": []
    },
    {
      "cell_type": "markdown",
      "source": [
        "# 4. ReLU function:"
      ],
      "metadata": {
        "id": "GjwxudH6iVaf"
      }
    },
    {
      "cell_type": "code",
      "source": [
        "def relu(x):\n",
        "  return max(0,x)\n",
        "\n",
        "x_i = []\n",
        "\n",
        "for i in range(len(x)):\n",
        "  x_i.append(relu(x[i]))\n",
        "x_i\n"
      ],
      "metadata": {
        "id": "svKBG4zaiXoH",
        "outputId": "c99e7983-9150-4f74-95ba-46c203046b95",
        "colab": {
          "base_uri": "https://localhost:8080/"
        }
      },
      "execution_count": 9,
      "outputs": [
        {
          "output_type": "execute_result",
          "data": {
            "text/plain": [
              "[1, 5, 0, 3, 0]"
            ]
          },
          "metadata": {},
          "execution_count": 9
        }
      ]
    }
  ]
}