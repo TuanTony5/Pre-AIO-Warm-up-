{
  "nbformat": 4,
  "nbformat_minor": 0,
  "metadata": {
    "colab": {
      "provenance": [],
      "gpuType": "T4",
      "authorship_tag": "ABX9TyOutCVBw9vQV0ZDhuV/fiQ4",
      "include_colab_link": true
    },
    "kernelspec": {
      "name": "python3",
      "display_name": "Python 3"
    },
    "language_info": {
      "name": "python"
    },
    "accelerator": "GPU"
  },
  "cells": [
    {
      "cell_type": "markdown",
      "metadata": {
        "id": "view-in-github",
        "colab_type": "text"
      },
      "source": [
        "<a href=\"https://colab.research.google.com/github/TuanTony5/Pre-AIO-Warm-up-/blob/main/01_Activation_Function.ipynb\" target=\"_parent\"><img src=\"https://colab.research.google.com/assets/colab-badge.svg\" alt=\"Open In Colab\"/></a>"
      ]
    },
    {
      "cell_type": "markdown",
      "source": [
        "# 1. Sigmoid Function\n"
      ],
      "metadata": {
        "id": "kQ1yirt2PMFK"
      }
    },
    {
      "cell_type": "code",
      "source": [
        "import numpy as np\n",
        "\n",
        "def sigmoid(x):\n",
        "  \"\"\"\n",
        "  Convert x: [-inf,inf] --> y: [0,1]\n",
        "  \"\"\"\n",
        "  return 1 / (1+ np.exp(-x))\n",
        "\n",
        "x = np.array([1,5,-4,3,-2])\n",
        "sigmoid(x)"
      ],
      "metadata": {
        "colab": {
          "base_uri": "https://localhost:8080/"
        },
        "id": "3RaMJkwsPRSy",
        "outputId": "2ee5a2b5-b57e-4c13-b90d-272a3e2668c1"
      },
      "execution_count": 8,
      "outputs": [
        {
          "output_type": "execute_result",
          "data": {
            "text/plain": [
              "array([0.73105858, 0.99330715, 0.01798621, 0.95257413, 0.11920292])"
            ]
          },
          "metadata": {},
          "execution_count": 8
        }
      ]
    },
    {
      "cell_type": "markdown",
      "source": [
        "# 2. Tanh function"
      ],
      "metadata": {
        "id": "XDL_9QutP-nR"
      }
    },
    {
      "cell_type": "code",
      "source": [
        "def tanh(x):\n",
        "  \"\"\"\n",
        "  Convert x: [-inf,inf] --> y: [-1,1]\n",
        "  \"\"\"\n",
        "  return (2 / (1+ np.exp(-2*x)) ) - 1\n",
        "\n",
        "x = np.array([1,5,-4,3,-2])\n",
        "tanh(x)"
      ],
      "metadata": {
        "colab": {
          "base_uri": "https://localhost:8080/"
        },
        "id": "ymMhjUbYQBTB",
        "outputId": "32c5090a-4879-43ad-e794-9f7f65486345"
      },
      "execution_count": 10,
      "outputs": [
        {
          "output_type": "execute_result",
          "data": {
            "text/plain": [
              "array([ 0.76159416,  0.9999092 , -0.9993293 ,  0.99505475, -0.96402758])"
            ]
          },
          "metadata": {},
          "execution_count": 10
        }
      ]
    },
    {
      "cell_type": "markdown",
      "source": [],
      "metadata": {
        "id": "2r8sdwcQRIe4"
      }
    }
  ]
}