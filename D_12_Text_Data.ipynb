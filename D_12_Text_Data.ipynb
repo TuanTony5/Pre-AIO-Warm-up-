{
 "cells": [
  {
   "cell_type": "code",
   "execution_count": 19,
   "metadata": {},
   "outputs": [
    {
     "name": "stdout",
     "output_type": "stream",
     "text": [
      "['deep', 'learning', 'book', 'machine', 'algorithm', 'ai', 'from', 'scratch', 'vietnam']\n"
     ]
    }
   ],
   "source": [
    "# Bag of Words\n",
    "\n",
    "# Corpus\n",
    "doc1 = 'deep learning book'\n",
    "doc2 = 'machine learning algorithm'\n",
    "doc3 = 'learning ai from scratch'\n",
    "doc4 = 'ai vietnam'\n",
    "\n",
    "# Tokenization \n",
    "tokenization = [i.split() for i in (doc1,doc2,doc3,doc4)]\n",
    "vocabulary = []\n",
    "# vocabulary\n",
    "for token in tokenization:\n",
    "    for word in token:\n",
    "        if word not in vocabulary:\n",
    "            vocabulary.append(word)\n",
    "print(vocabulary)"
   ]
  },
  {
   "cell_type": "code",
   "execution_count": 40,
   "metadata": {},
   "outputs": [
    {
     "name": "stdout",
     "output_type": "stream",
     "text": [
      "[1, 1, 1, 0, 0, 0, 0, 0, 0] [0, 1, 0, 1, 1, 0, 0, 0, 0] [0, 1, 0, 0, 0, 1, 1, 1, 0] [0, 0, 0, 0, 0, 1, 0, 0, 1]\n"
     ]
    },
    {
     "data": {
      "text/plain": [
       "[0, 0, 0, 0, 1, 3, 0, 0, 0]"
      ]
     },
     "execution_count": 40,
     "metadata": {},
     "output_type": "execute_result"
    }
   ],
   "source": [
    "def vector(doc: str, vocabulary: list):\n",
    "    token = doc.split()\n",
    "    vt = [0] * len(vocabulary)\n",
    "    for ind, val in enumerate(vocabulary):\n",
    "        if val in token:\n",
    "            vt[ind] = token.count(val)\n",
    "    return vt\n",
    "\n",
    "\n",
    "print(\n",
    "    vector(doc1, vocabulary),\n",
    "    vector(doc2, vocabulary),\n",
    "    vector(doc3, vocabulary),\n",
    "    vector(doc4, vocabulary),\n",
    ")\n",
    "vector(\"ai ai ai algorithm\", vocabulary)"
   ]
  },
  {
   "cell_type": "markdown",
   "metadata": {},
   "source": [
    "# K-Nearest Neighbour"
   ]
  },
  {
   "cell_type": "code",
   "execution_count": 41,
   "metadata": {},
   "outputs": [],
   "source": [
    "import pandas as pd"
   ]
  },
  {
   "cell_type": "code",
   "execution_count": 45,
   "metadata": {},
   "outputs": [],
   "source": [
    "test_sen = 'không làm cạp đất mà ăn'\n",
    "data = [\n",
    "    \"góp gió gặt bão\",\n",
    "    \"có làm mới có ăn\",\n",
    "    \"đất lành chim đậu\",\n",
    "    \"ăn cháo đá bát\",\n",
    "    \"gậy ông đập lưng ông\",\n",
    "    \"qua cầu rút ván\",\n",
    "]\n",
    "label = [1,1,1,0,0,0]\n",
    "df = pd.DataFrame({'Doc':data,'Label':label})"
   ]
  },
  {
   "cell_type": "code",
   "execution_count": 85,
   "metadata": {},
   "outputs": [],
   "source": [
    "# Function use to create the vocabulary base on data frame\n",
    "def voca(df):\n",
    "    doc = df.iloc[:,[0]]\n",
    "    voc = []\n",
    "    for sentence in doc.values:\n",
    "        # Tokenization each sentence\n",
    "        token = str(sentence).strip(\"[]''\").split()\n",
    "\n",
    "        # Improve vocabulary\n",
    "        for word in token:\n",
    "            if word not in voc:\n",
    "                voc.append(word)\n",
    "    return voc\n"
   ]
  },
  {
   "cell_type": "code",
   "execution_count": 88,
   "metadata": {},
   "outputs": [
    {
     "name": "stdout",
     "output_type": "stream",
     "text": [
      "['góp', 'gió', 'gặt', 'bão', 'có', 'làm', 'mới', 'ăn', 'đất', 'lành', 'chim', 'đậu', 'cháo', 'đá', 'bát', 'gậy', 'ông', 'đập', 'lưng', 'qua', 'cầu', 'rút', 'ván']\n"
     ]
    }
   ],
   "source": [
    "voc = voca(df)\n",
    "print(voc)"
   ]
  }
 ],
 "metadata": {
  "kernelspec": {
   "display_name": "aio2024_env",
   "language": "python",
   "name": "python3"
  },
  "language_info": {
   "codemirror_mode": {
    "name": "ipython",
    "version": 3
   },
   "file_extension": ".py",
   "mimetype": "text/x-python",
   "name": "python",
   "nbconvert_exporter": "python",
   "pygments_lexer": "ipython3",
   "version": "3.10.14"
  }
 },
 "nbformat": 4,
 "nbformat_minor": 2
}
